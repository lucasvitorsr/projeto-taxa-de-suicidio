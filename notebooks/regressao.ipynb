{
  "nbformat": 4,
  "nbformat_minor": 0,
  "metadata": {
    "colab": {
      "provenance": []
    },
    "kernelspec": {
      "name": "python3",
      "display_name": "Python 3"
    },
    "language_info": {
      "name": "python"
    }
  },
  "cells": [
    {
      "cell_type": "code",
      "execution_count": null,
      "metadata": {
        "id": "ztMVsThpBcmr"
      },
      "outputs": [],
      "source": [
        "import pandas as pd\n",
        "import numpy as np\n",
        "import"
      ]
    },
    {
      "cell_type": "code",
      "source": [
        "df = pd.read_csv(\"https://github.com/lucasvitorsr/projeto-taxa-de-suicidio/blob/main/base%20de%20dados/base%20de%20dados%20limpa/dataset_limpo.csv?raw=true\")"
      ],
      "metadata": {
        "id": "dowmdJ1XEj8g"
      },
      "execution_count": null,
      "outputs": []
    },
    {
      "cell_type": "code",
      "source": [
        "df = df[[\"suicides/100k_pop\", \"gdp_for_year\"]]"
      ],
      "metadata": {
        "id": "MHQUJX4YElUK"
      },
      "execution_count": null,
      "outputs": []
    },
    {
      "cell_type": "code",
      "source": [
        "df['gdp_for_year'] = df['gdp_for_year'].str.replace(',', '').astype(float)"
      ],
      "metadata": {
        "id": "2RF7ySthFw2e"
      },
      "execution_count": null,
      "outputs": []
    },
    {
      "cell_type": "code",
      "source": [
        "df['gdp_for_year_normalized'] = (df['gdp_for_year'] - df['gdp_for_year'].mean()) / df['gdp_for_year'].std()\n",
        "df['suicides_normalized'] = (df['suicides/100k_pop'] - df['suicides/100k_pop'].mean()) / df['suicides/100k_pop'].std()"
      ],
      "metadata": {
        "id": "Zc32esOpEtC_"
      },
      "execution_count": null,
      "outputs": []
    },
    {
      "cell_type": "code",
      "source": [
        "df.describe()"
      ],
      "metadata": {
        "colab": {
          "base_uri": "https://localhost:8080/",
          "height": 300
        },
        "id": "TQFOHCHQFVAd",
        "outputId": "f4ef72bf-94b8-4835-fa0b-22acaa22e62c"
      },
      "execution_count": null,
      "outputs": [
        {
          "output_type": "execute_result",
          "data": {
            "text/plain": [
              "       suicides/100k_pop  gdp_for_year  gdp_for_year_normalized  \\\n",
              "count       26664.000000  2.666400e+04             2.666400e+04   \n",
              "mean           13.036133  4.613603e+11             1.705473e-17   \n",
              "std            19.123598  1.482478e+12             1.000000e+00   \n",
              "min             0.000000  4.691962e+07            -3.111772e-01   \n",
              "25%             1.010000  9.836200e+09            -3.045739e-01   \n",
              "50%             6.170000  4.991320e+10            -2.775401e-01   \n",
              "75%            16.860000  2.644673e+11            -1.328134e-01   \n",
              "max           224.970000  1.812071e+13             1.191205e+01   \n",
              "\n",
              "       suicides_normalized  \n",
              "count         2.666400e+04  \n",
              "mean         -2.398322e-17  \n",
              "std           1.000000e+00  \n",
              "min          -6.816779e-01  \n",
              "25%          -6.288635e-01  \n",
              "50%          -3.590398e-01  \n",
              "75%           1.999554e-01  \n",
              "max           1.108232e+01  "
            ],
            "text/html": [
              "\n",
              "  <div id=\"df-f8999df1-04e7-4c0a-8a27-390e357127b5\">\n",
              "    <div class=\"colab-df-container\">\n",
              "      <div>\n",
              "<style scoped>\n",
              "    .dataframe tbody tr th:only-of-type {\n",
              "        vertical-align: middle;\n",
              "    }\n",
              "\n",
              "    .dataframe tbody tr th {\n",
              "        vertical-align: top;\n",
              "    }\n",
              "\n",
              "    .dataframe thead th {\n",
              "        text-align: right;\n",
              "    }\n",
              "</style>\n",
              "<table border=\"1\" class=\"dataframe\">\n",
              "  <thead>\n",
              "    <tr style=\"text-align: right;\">\n",
              "      <th></th>\n",
              "      <th>suicides/100k_pop</th>\n",
              "      <th>gdp_for_year</th>\n",
              "      <th>gdp_for_year_normalized</th>\n",
              "      <th>suicides_normalized</th>\n",
              "    </tr>\n",
              "  </thead>\n",
              "  <tbody>\n",
              "    <tr>\n",
              "      <th>count</th>\n",
              "      <td>26664.000000</td>\n",
              "      <td>2.666400e+04</td>\n",
              "      <td>2.666400e+04</td>\n",
              "      <td>2.666400e+04</td>\n",
              "    </tr>\n",
              "    <tr>\n",
              "      <th>mean</th>\n",
              "      <td>13.036133</td>\n",
              "      <td>4.613603e+11</td>\n",
              "      <td>1.705473e-17</td>\n",
              "      <td>-2.398322e-17</td>\n",
              "    </tr>\n",
              "    <tr>\n",
              "      <th>std</th>\n",
              "      <td>19.123598</td>\n",
              "      <td>1.482478e+12</td>\n",
              "      <td>1.000000e+00</td>\n",
              "      <td>1.000000e+00</td>\n",
              "    </tr>\n",
              "    <tr>\n",
              "      <th>min</th>\n",
              "      <td>0.000000</td>\n",
              "      <td>4.691962e+07</td>\n",
              "      <td>-3.111772e-01</td>\n",
              "      <td>-6.816779e-01</td>\n",
              "    </tr>\n",
              "    <tr>\n",
              "      <th>25%</th>\n",
              "      <td>1.010000</td>\n",
              "      <td>9.836200e+09</td>\n",
              "      <td>-3.045739e-01</td>\n",
              "      <td>-6.288635e-01</td>\n",
              "    </tr>\n",
              "    <tr>\n",
              "      <th>50%</th>\n",
              "      <td>6.170000</td>\n",
              "      <td>4.991320e+10</td>\n",
              "      <td>-2.775401e-01</td>\n",
              "      <td>-3.590398e-01</td>\n",
              "    </tr>\n",
              "    <tr>\n",
              "      <th>75%</th>\n",
              "      <td>16.860000</td>\n",
              "      <td>2.644673e+11</td>\n",
              "      <td>-1.328134e-01</td>\n",
              "      <td>1.999554e-01</td>\n",
              "    </tr>\n",
              "    <tr>\n",
              "      <th>max</th>\n",
              "      <td>224.970000</td>\n",
              "      <td>1.812071e+13</td>\n",
              "      <td>1.191205e+01</td>\n",
              "      <td>1.108232e+01</td>\n",
              "    </tr>\n",
              "  </tbody>\n",
              "</table>\n",
              "</div>\n",
              "      <button class=\"colab-df-convert\" onclick=\"convertToInteractive('df-f8999df1-04e7-4c0a-8a27-390e357127b5')\"\n",
              "              title=\"Convert this dataframe to an interactive table.\"\n",
              "              style=\"display:none;\">\n",
              "        \n",
              "  <svg xmlns=\"http://www.w3.org/2000/svg\" height=\"24px\"viewBox=\"0 0 24 24\"\n",
              "       width=\"24px\">\n",
              "    <path d=\"M0 0h24v24H0V0z\" fill=\"none\"/>\n",
              "    <path d=\"M18.56 5.44l.94 2.06.94-2.06 2.06-.94-2.06-.94-.94-2.06-.94 2.06-2.06.94zm-11 1L8.5 8.5l.94-2.06 2.06-.94-2.06-.94L8.5 2.5l-.94 2.06-2.06.94zm10 10l.94 2.06.94-2.06 2.06-.94-2.06-.94-.94-2.06-.94 2.06-2.06.94z\"/><path d=\"M17.41 7.96l-1.37-1.37c-.4-.4-.92-.59-1.43-.59-.52 0-1.04.2-1.43.59L10.3 9.45l-7.72 7.72c-.78.78-.78 2.05 0 2.83L4 21.41c.39.39.9.59 1.41.59.51 0 1.02-.2 1.41-.59l7.78-7.78 2.81-2.81c.8-.78.8-2.07 0-2.86zM5.41 20L4 18.59l7.72-7.72 1.47 1.35L5.41 20z\"/>\n",
              "  </svg>\n",
              "      </button>\n",
              "      \n",
              "  <style>\n",
              "    .colab-df-container {\n",
              "      display:flex;\n",
              "      flex-wrap:wrap;\n",
              "      gap: 12px;\n",
              "    }\n",
              "\n",
              "    .colab-df-convert {\n",
              "      background-color: #E8F0FE;\n",
              "      border: none;\n",
              "      border-radius: 50%;\n",
              "      cursor: pointer;\n",
              "      display: none;\n",
              "      fill: #1967D2;\n",
              "      height: 32px;\n",
              "      padding: 0 0 0 0;\n",
              "      width: 32px;\n",
              "    }\n",
              "\n",
              "    .colab-df-convert:hover {\n",
              "      background-color: #E2EBFA;\n",
              "      box-shadow: 0px 1px 2px rgba(60, 64, 67, 0.3), 0px 1px 3px 1px rgba(60, 64, 67, 0.15);\n",
              "      fill: #174EA6;\n",
              "    }\n",
              "\n",
              "    [theme=dark] .colab-df-convert {\n",
              "      background-color: #3B4455;\n",
              "      fill: #D2E3FC;\n",
              "    }\n",
              "\n",
              "    [theme=dark] .colab-df-convert:hover {\n",
              "      background-color: #434B5C;\n",
              "      box-shadow: 0px 1px 3px 1px rgba(0, 0, 0, 0.15);\n",
              "      filter: drop-shadow(0px 1px 2px rgba(0, 0, 0, 0.3));\n",
              "      fill: #FFFFFF;\n",
              "    }\n",
              "  </style>\n",
              "\n",
              "      <script>\n",
              "        const buttonEl =\n",
              "          document.querySelector('#df-f8999df1-04e7-4c0a-8a27-390e357127b5 button.colab-df-convert');\n",
              "        buttonEl.style.display =\n",
              "          google.colab.kernel.accessAllowed ? 'block' : 'none';\n",
              "\n",
              "        async function convertToInteractive(key) {\n",
              "          const element = document.querySelector('#df-f8999df1-04e7-4c0a-8a27-390e357127b5');\n",
              "          const dataTable =\n",
              "            await google.colab.kernel.invokeFunction('convertToInteractive',\n",
              "                                                     [key], {});\n",
              "          if (!dataTable) return;\n",
              "\n",
              "          const docLinkHtml = 'Like what you see? Visit the ' +\n",
              "            '<a target=\"_blank\" href=https://colab.research.google.com/notebooks/data_table.ipynb>data table notebook</a>'\n",
              "            + ' to learn more about interactive tables.';\n",
              "          element.innerHTML = '';\n",
              "          dataTable['output_type'] = 'display_data';\n",
              "          await google.colab.output.renderOutput(dataTable, element);\n",
              "          const docLink = document.createElement('div');\n",
              "          docLink.innerHTML = docLinkHtml;\n",
              "          element.appendChild(docLink);\n",
              "        }\n",
              "      </script>\n",
              "    </div>\n",
              "  </div>\n",
              "  "
            ]
          },
          "metadata": {},
          "execution_count": 8
        }
      ]
    },
    {
      "cell_type": "code",
      "source": [
        "import scipy.stats as ss\n",
        "import matplotlib.pyplot as plt\n",
        "\n",
        "x = df[\"gdp_for_year_normalized\"]\n",
        "y = df[\"suicides_normalized\"]\n",
        "r = ss.pearsonr(x, y)[0]\n",
        "b = r * y.std(ddof=1) / x.std(ddof=1)\n",
        "a = y.mean() - b * x.mean()\n",
        "\n",
        "x_ = np.linspace(0, x.max(), 10)\n",
        "ŷ = b * x_ + a\n",
        "\n",
        "plt.subplots(figsize=(6, 6))\n",
        "\n",
        "plt.scatter(x, y)\n",
        "plt.plot(x_, ŷ, c='red')\n",
        "plt.xlabel(\"gdp_for_year\")\n",
        "plt.ylabel(\"suicides_normalized\")\n",
        "plt.title(\"\")\n",
        "\n",
        "plt.tight_layout()"
      ],
      "metadata": {
        "colab": {
          "base_uri": "https://localhost:8080/",
          "height": 607
        },
        "id": "GapoC1xtF2H7",
        "outputId": "e2e61e78-991b-4c03-93b8-c4f4929b13e8"
      },
      "execution_count": null,
      "outputs": [
        {
          "output_type": "display_data",
          "data": {
            "text/plain": [
              "<Figure size 600x600 with 1 Axes>"
            ],
            "image/png": "[encoded data removed]"
          },
          "metadata": {}
        }
      ]
    },
    {
      "cell_type": "code",
      "source": [
        "R2 = r**2\n",
        "print(f\"R² = {np.round(R2, 4)}\")"
      ],
      "metadata": {
        "colab": {
          "base_uri": "https://localhost:8080/"
        },
        "id": "_Gt1e3kxGtU-",
        "outputId": "02cac601-1e55-4b8a-91db-38425d0cccac"
      },
      "execution_count": null,
      "outputs": [
        {
          "output_type": "stream",
          "name": "stdout",
          "text": [
            "R² = 0.0005\n"
          ]
        }
      ]
    },
    {
      "cell_type": "markdown",
      "source": [
        "Isso nos indica que apenas 0.05% da variabilidade da taxa de suicídio/100kpop pode ser explicada pela variável \"gdp_for_year\" (produto interno bruto do ano). Em outras palavras, há uma relação muito fraca ou insignificante entre essas duas variáveis."
      ],
      "metadata": {
        "id": "e2phXvRCHVZZ"
      }
    }
  ]
}